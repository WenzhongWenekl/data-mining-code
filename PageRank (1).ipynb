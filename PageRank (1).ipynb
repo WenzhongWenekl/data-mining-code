{
  "nbformat": 4,
  "nbformat_minor": 0,
  "metadata": {
    "colab": {
      "provenance": []
    },
    "kernelspec": {
      "name": "python3",
      "display_name": "Python 3"
    },
    "language_info": {
      "name": "python"
    }
  },
  "cells": [
    {
      "cell_type": "markdown",
      "source": [
        "# **CSC 4008 Assignment 3 (Q1.a) - 119020062 许文仲**"
      ],
      "metadata": {
        "id": "XbVk69VM_yFc"
      }
    },
    {
      "cell_type": "code",
      "execution_count": null,
      "metadata": {
        "id": "zlwHAkqrflJ1"
      },
      "outputs": [],
      "source": [
        "!pip install pyspark\n",
        "!pip install -U -q PyDrive\n",
        "!apt install openjdk-8-jdk-headless -qq"
      ]
    },
    {
      "cell_type": "code",
      "source": [
        "from google.colab import drive\n",
        "drive.mount('/content/gdrive')\n",
        "import sys\n",
        "sys.path.append('/content/drive/My Drive')"
      ],
      "metadata": {
        "colab": {
          "base_uri": "https://localhost:8080/"
        },
        "id": "jcZpmEtkgzJ2",
        "outputId": "56aa5641-0ca7-4f53-bce4-41c6136ac2d6"
      },
      "execution_count": null,
      "outputs": [
        {
          "output_type": "stream",
          "name": "stdout",
          "text": [
            "Mounted at /content/gdrive\n"
          ]
        }
      ]
    },
    {
      "cell_type": "code",
      "source": [
        "# Let's import the libraries we will need\n",
        "import pandas as pd\n",
        "import numpy as np\n",
        "import matplotlib.pyplot as plt\n",
        "%matplotlib inline\n",
        "\n",
        "\n",
        "from pyspark.sql import SparkSession\n",
        "import pyspark\n",
        "from pyspark.sql import *\n",
        "from pyspark.sql.functions import *\n",
        "from pyspark import SparkContext"
      ],
      "metadata": {
        "id": "fd7uojZ_hIEJ"
      },
      "execution_count": null,
      "outputs": []
    },
    {
      "cell_type": "code",
      "source": [
        "# spark = SparkSession.builder.getOrCreate()\n",
        "sc = pyspark.SparkContext.getOrCreate()\n",
        "# path = \"/content/gdrive/MyDrive/Colab Notebooks/CSC 4008/test.txt\"\n",
        "real_path = \"/content/gdrive/MyDrive/Colab Notebooks/CSC 4008/graph-full.txt\"\n",
        "check_path = \"/content/gdrive/MyDrive/Colab Notebooks/CSC 4008/graph-small.txt\"\n",
        "\n",
        "data = sc.textFile(real_path)\n",
        "# rdd.collect()"
      ],
      "metadata": {
        "id": "TwXXXT-NjLrR"
      },
      "execution_count": null,
      "outputs": []
    },
    {
      "cell_type": "code",
      "source": [
        "# get the first level friend RDD\n",
        "size = 1000\n",
        "rdd = data.map(lambda x: x.split(\"\\t\"))\n",
        "rdd2 = rdd.map(lambda x: (int(x[0]), int(x[1])))\n",
        "rdd_dis = rdd2.distinct()\n",
        "rdd3 = rdd_dis.groupByKey().map(lambda x : (x[0], list(x[1])))\n",
        "rdd4 = rdd3.sortByKey()\n",
        "rdd4.collect()"
      ],
      "metadata": {
        "id": "uDr7KPkq9vI3"
      },
      "execution_count": null,
      "outputs": []
    },
    {
      "cell_type": "code",
      "source": [
        "beta = 0.8\n",
        "def findM(line):\n",
        "  index = line[1]\n",
        "  d_i = 1 / len(index)\n",
        "  # print(d_i)\n",
        "  M_i = np.zeros(shape = (1, size))[0]\n",
        "  for i in index:\n",
        "    M_i[i-1] = d_i\n",
        "  return (np.array(M_i))\n",
        "\n",
        "M_matrix = rdd4.map(findM)\n",
        "z = np.array(M_matrix.collect())"
      ],
      "metadata": {
        "id": "HV8hP7KZO-aK"
      },
      "execution_count": null,
      "outputs": []
    },
    {
      "cell_type": "code",
      "source": [
        "M = z.T\n",
        "def test(line):\n",
        "  index = line[0]\n",
        "  return (index, M[index-1])\n",
        "M_matrix = rdd4.map(test)"
      ],
      "metadata": {
        "id": "11CYR2RSkn5J"
      },
      "execution_count": null,
      "outputs": []
    },
    {
      "cell_type": "code",
      "source": [
        "r_odd = np.full(size, 1/size)\n",
        "def find_r_new(line):\n",
        "  M_i = line[1]\n",
        "  result = beta*np.matmul(r_odd, M_i) + (1-beta)/size\n",
        "  return (result)\n",
        "\n",
        "temp = M_matrix.map(find_r_new)\n",
        "r_new = np.array(temp.collect())\n",
        "r_new\n",
        "\n",
        "iteration = 1\n",
        "while iteration <= 40:\n",
        "  r_odd = r_new\n",
        "  temp = M_matrix.map(find_r_new)\n",
        "  r_new = np.array(temp.collect())\n",
        "  iteration += 1\n",
        "r_new"
      ],
      "metadata": {
        "id": "1lAh0GPrU5PX"
      },
      "execution_count": null,
      "outputs": []
    },
    {
      "cell_type": "code",
      "source": [
        "k = 5  #前k个\n",
        "high = r_new.argsort()[-k:][::-1] + 1 #获取前k个索引\n",
        "low = r_new.argsort()[:k] + 1\n",
        "highest_score = []\n",
        "lowest_score = []\n",
        "for i in range(0,k):\n",
        "  highest_score.append(r_new[high[i]-1])\n",
        "  lowest_score.append(r_new[low[i]-1])\n",
        "\n",
        "print(\"The first 5 highest index of PageRank are: \", high)\n",
        "print(\"The corresponding scores are: \", highest_score)\n",
        "print(\"The first 5 lowest index of PageRank are: \", low)\n",
        "print(\"The corresponding scores are: \", lowest_score)"
      ],
      "metadata": {
        "colab": {
          "base_uri": "https://localhost:8080/"
        },
        "id": "liiZANBuXNfO",
        "outputId": "367c547f-d724-4f79-d8b5-004df7681f65"
      },
      "execution_count": null,
      "outputs": [
        {
          "output_type": "stream",
          "name": "stdout",
          "text": [
            "The first 5 highest index of PageRank are:  [263 537 965 243 285]\n",
            "The corresponding scores are:  [0.0020202911815182184, 0.0019433415714531497, 0.0019254478071662631, 0.001852634016241731, 0.0018273721700645144]\n",
            "The first 5 lowest index of PageRank are:  [558  93  62 424 408]\n",
            "The corresponding scores are:  [0.0003286018525215297, 0.0003513568937516577, 0.00035314810510596274, 0.0003548153864930145, 0.00038779848719291705]\n"
          ]
        }
      ]
    }
  ]
}