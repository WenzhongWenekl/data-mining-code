{
  "nbformat": 4,
  "nbformat_minor": 0,
  "metadata": {
    "colab": {
      "provenance": []
    },
    "kernelspec": {
      "name": "python3",
      "display_name": "Python 3"
    },
    "language_info": {
      "name": "python"
    }
  },
  "cells": [
    {
      "cell_type": "markdown",
      "source": [
        "# **CSC 4008 Assignment 1 - 119020062 许文仲**"
      ],
      "metadata": {
        "id": "XbVk69VM_yFc"
      }
    },
    {
      "cell_type": "code",
      "execution_count": null,
      "metadata": {
        "id": "zlwHAkqrflJ1"
      },
      "outputs": [],
      "source": [
        "!pip install pyspark\n",
        "!pip install -U -q PyDrive\n",
        "!apt install openjdk-8-jdk-headless -qq"
      ]
    },
    {
      "cell_type": "code",
      "source": [
        "from google.colab import drive\n",
        "drive.mount('/content/gdrive')\n",
        "import sys\n",
        "sys.path.append('/content/drive/My Drive')"
      ],
      "metadata": {
        "colab": {
          "base_uri": "https://localhost:8080/"
        },
        "id": "jcZpmEtkgzJ2",
        "outputId": "c3ae0f59-e50a-4e72-ebbb-e5fa96d8b49f"
      },
      "execution_count": null,
      "outputs": [
        {
          "output_type": "stream",
          "name": "stdout",
          "text": [
            "Mounted at /content/gdrive\n"
          ]
        }
      ]
    },
    {
      "cell_type": "code",
      "source": [
        "# Let's import the libraries we will need\n",
        "import pandas as pd\n",
        "import numpy as np\n",
        "import matplotlib.pyplot as plt\n",
        "%matplotlib inline\n",
        "\n",
        "import pyspark\n",
        "from pyspark.sql import *\n",
        "from pyspark.sql.functions import *\n",
        "from pyspark import SparkContext, SparkConf"
      ],
      "metadata": {
        "id": "fd7uojZ_hIEJ"
      },
      "execution_count": null,
      "outputs": []
    },
    {
      "cell_type": "code",
      "source": [
        "# spark = SparkSession.builder.getOrCreate()\n",
        "sc = pyspark.SparkContext.getOrCreate()\n",
        "path = \"/content/gdrive/MyDrive/Colab Notebooks/CSC 4008/test.txt\"\n",
        "real_path = \"/content/gdrive/MyDrive/Colab Notebooks/CSC 4008/ego-facebook(1).txt\"\n",
        "rdd = sc.textFile(real_path)"
      ],
      "metadata": {
        "id": "TwXXXT-NjLrR"
      },
      "execution_count": null,
      "outputs": []
    },
    {
      "cell_type": "code",
      "source": [
        "# sc = pyspark.SparkContext.getOrCreate()\n",
        "# data = sc.textFile(real_path)\n",
        "# rdd = data.map(lambda x: x.split(\" \"))\n",
        "# rdd2 = rdd.map(lambda x: (int(x[0]), int(x[1])))\n",
        "# rdd5 = rdd2.map(lambda x: (x[1],x[0]))\n",
        "# rdd6 = rdd2.union(rdd5)\n",
        "# rdd3 = rdd6.groupByKey().map(lambda x : (x[0], list(x[1])))\n",
        "# rdd4 = rdd3.sortByKey()\n",
        "# rdd4.collect()"
      ],
      "metadata": {
        "id": "B3oe-_tNBZiq"
      },
      "execution_count": null,
      "outputs": []
    },
    {
      "cell_type": "code",
      "source": [
        "# # in this cell, I test that \"subtract\" can be used to get the diff of first-\n",
        "# # level friend RDD and the second level friend RDD\n",
        "# data1 = [1,1,2,3,4]\n",
        "# data2 = [1]\n",
        "# rdd_data1 = sc.parallelize(data1)\n",
        "# rdd_data2 = sc.parallelize(data2)\n",
        "# result = rdd_data1.subtract(rdd_data2)\n",
        "# type(result.collect())"
      ],
      "metadata": {
        "colab": {
          "base_uri": "https://localhost:8080/"
        },
        "id": "11s3PCJ7mMHf",
        "outputId": "b88492ae-35cb-42d0-e297-cc222b94659d"
      },
      "execution_count": null,
      "outputs": [
        {
          "output_type": "execute_result",
          "data": {
            "text/plain": [
              "list"
            ]
          },
          "metadata": {},
          "execution_count": 42
        }
      ]
    },
    {
      "cell_type": "code",
      "source": [
        "\n",
        "# rdd2 = rdd.map(lambda x: (int(x.split(\" \")[0]), int(x.split(\" \")[1])))\n",
        "# rdd2_reverse = rdd.map(lambda x: (int(x.split(\" \")[1]), int(x.split(\" \")[0])))\n",
        "# # rdd3 = rdd2.map(lambda x)\n",
        "# # for element in rdd2.collect():\n",
        "# #   print(element)\n",
        "# rdd_union = rdd2.union(rdd2_reverse)\n",
        "# # sorted(rdd_union.groupByKey().mapValues(list).collect())"
      ],
      "metadata": {
        "id": "uqLD6CSppf0N"
      },
      "execution_count": null,
      "outputs": []
    },
    {
      "cell_type": "code",
      "source": [
        "# get the first level friend RDD\n",
        "sc = pyspark.SparkContext.getOrCreate()\n",
        "data = sc.textFile(real_path)\n",
        "rdd = data.map(lambda x: x.split(\" \"))\n",
        "rdd2 = rdd.map(lambda x: (int(x[0]), int(x[1])))\n",
        "rdd5 = rdd2.map(lambda x: (x[1],x[0]))\n",
        "rdd6 = rdd2.union(rdd5)\n",
        "rdd3 = rdd6.groupByKey().map(lambda x : (x[0], list(x[1])))\n",
        "rdd4 = rdd3.sortByKey()\n",
        "# rdd4.collect()"
      ],
      "metadata": {
        "id": "uDr7KPkq9vI3"
      },
      "execution_count": null,
      "outputs": []
    },
    {
      "cell_type": "code",
      "source": [
        "# try to get the second level friend RDD\n",
        "def findSecondLevelRdd(line):\n",
        "  first_friend_list = line[1]\n",
        "  for i in range(len(first_friend_list)):\n",
        "    for j in range(i+1, len(first_friend_list)):\n",
        "      yield((first_friend_list[i], first_friend_list[j]))\n",
        "      yield((first_friend_list[j], first_friend_list[i]))\n",
        "\n",
        "mapData = rdd4.flatMap(findSecondLevelRdd).groupByKey().map(lambda x : (x[0], list(x[1])))\n",
        "mapData2 = mapData.sortByKey()\n",
        "# mapData2.collect()[0]"
      ],
      "metadata": {
        "id": "oziYYUXT-oaA"
      },
      "execution_count": null,
      "outputs": []
    },
    {
      "cell_type": "code",
      "source": [
        "\n",
        "rdd10 = mapData2.union(rdd4)\n",
        "rdd11 = rdd10.groupByKey().map(lambda x : (x[0], list(x[1])))\n",
        "rdd12 = rdd11.sortByKey()\n"
      ],
      "metadata": {
        "id": "24gIV8HPG2X3"
      },
      "execution_count": null,
      "outputs": []
    },
    {
      "cell_type": "code",
      "source": [
        "# try to eliminate the first level friend\n",
        "# 不懂为啥带不进去 带不进map里 后面解决了\n",
        "\n",
        "from collections import *\n",
        "def eliminateFirst(line):\n",
        "  # second = line[1][0]\n",
        "  second = line[0][1][0]\n",
        "  # print(second)\n",
        "  # first = line[1][1]\n",
        "  first = line[0][1][1]\n",
        "  # print(first)\n",
        "  rdd_data_second = sc.parallelize(second)\n",
        "  rdd_data_first = sc.parallelize(first)\n",
        "  result = rdd_data_second.subtract(rdd_data_first).collect()\n",
        "  result = sorted(result)\n",
        "  # print(result)\n",
        "  mutual = Counter(result).most_common(10)\n",
        "  return (line[0][0], mutual)\n",
        "\n",
        "# eliminateFirst(rdd12.collect()[0])\n",
        "\n",
        "# getFriends = rdd12.map(eliminateFirst)\n",
        "# getFriends.collect()"
      ],
      "metadata": {
        "id": "eiFtbpyaFQlc"
      },
      "execution_count": null,
      "outputs": []
    },
    {
      "cell_type": "code",
      "source": [
        "# this is for whom only wants for a single index\n",
        "def getResult(index):\n",
        "  wanted_RDD = rdd12.filter(lambda x: x[0] == index)\n",
        "# wanted_RDD.collect()[0]\n",
        "  print(eliminateFirst(wanted_RDD.collect()))\n",
        "\n",
        "wanted = [1, 10, 152, 288, 603, 714, 1525, 2434, 2681]\n",
        "for i in wanted:\n",
        "  getResult(i)\n"
      ],
      "metadata": {
        "colab": {
          "base_uri": "https://localhost:8080/"
        },
        "id": "neSFlgNzMKzW",
        "outputId": "d3f1a812-77ab-4c6d-bb43-a2ac939f2469"
      },
      "execution_count": null,
      "outputs": [
        {
          "output_type": "stream",
          "name": "stdout",
          "text": [
            "(1, [(710, 4), (603, 3), (714, 2), (1525, 2), (289, 1), (290, 1), (291, 1), (292, 1), (293, 1), (294, 1)])\n",
            "(10, [(2, 1), (3, 1), (4, 1), (5, 1), (6, 1), (7, 1), (8, 1), (9, 1), (11, 1), (12, 1)])\n",
            "(152, [(2, 1), (3, 1), (4, 1), (5, 1), (6, 1), (7, 1), (8, 1), (9, 1), (10, 1), (11, 1)])\n",
            "(288, [(71, 3), (1525, 3), (69, 2), (90, 2), (217, 2), (2348, 2), (2351, 2), (2352, 2), (2354, 2), (2356, 2)])\n",
            "(603, [(1, 3), (289, 1), (290, 1), (291, 1), (292, 1), (293, 1), (294, 1), (295, 1), (296, 1), (297, 1)])\n",
            "(714, [(1, 2), (712, 2), (713, 2), (715, 2), (717, 2), (718, 2), (1525, 2), (90, 1), (217, 1), (247, 1)])\n",
            "(1525, [(288, 3), (1, 2), (710, 2), (714, 2), (603, 1)])\n",
            "(2434, [(71, 2), (288, 2), (711, 2), (716, 2), (719, 2), (720, 2), (2348, 2), (2351, 2), (2352, 2), (2354, 2)])\n",
            "(2681, [(71, 1), (288, 1), (710, 1), (711, 1), (716, 1), (719, 1), (720, 1), (721, 1), (722, 1), (2348, 1)])\n"
          ]
        }
      ]
    },
    {
      "cell_type": "code",
      "source": [
        "# useless\n",
        "# rdd_union.groupByKey().collect()\n",
        "# index = 1571\n",
        "# type(rdd_union.lookup(index))\n",
        "# first_level_friend_list = sorted(rdd_union.lookup(index))\n",
        "# second_level_friend_list = []\n",
        "# for first_level_friend in first_level_friend_list:\n",
        "#   second_level_friend_list += rdd_union.lookup(first_level_friend)\n"
      ],
      "metadata": {
        "id": "azwEk9oGqeZF"
      },
      "execution_count": null,
      "outputs": []
    },
    {
      "cell_type": "code",
      "source": [
        "# 需要在 二级朋友 中 除去自身 和 一级朋友 (useless)\n",
        "# second_level_friend_list = sorted(second_level_friend_list)\n",
        "# # second_level_friend_set = set(second_level_friend_list)\n",
        "# first_level_friend_set = set(first_level_friend_list)\n",
        "# first_level_friend_set.add(index)\n",
        "# # diff = second_level_friend_set - first_level_friend_set\n",
        "# # diff_list = list(diff)\n",
        "# # diff_list.remove(1571)\n",
        "# for i in first_level_friend_set:\n",
        "#   while i in second_level_friend_list:\n",
        "#     second_level_friend_list.remove(i)\n"
      ],
      "metadata": {
        "id": "SCic5D-CkHeK"
      },
      "execution_count": null,
      "outputs": []
    },
    {
      "cell_type": "code",
      "source": [
        "# useless\n",
        "# from collections import *\n",
        "# result = Counter(second_level_friend_list).most_common(10)\n",
        "# if result == []:\n",
        "#   output = []\n",
        "# else:\n",
        "#   output = [i[0] for i in result]\n",
        "# output"
      ],
      "metadata": {
        "colab": {
          "base_uri": "https://localhost:8080/"
        },
        "id": "YDPxfYAztlPv",
        "outputId": "ce5aad93-d61a-4030-ddfa-f5e94f8ac885"
      },
      "execution_count": null,
      "outputs": [
        {
          "output_type": "execute_result",
          "data": {
            "text/plain": [
              "[710, 603, 714, 1525, 289, 290, 291, 292, 293, 294]"
            ]
          },
          "metadata": {},
          "execution_count": 84
        }
      ]
    },
    {
      "cell_type": "code",
      "source": [
        "# compute the total result by 'map' so that you can pick the one you want\n",
        "from collections import *\n",
        "def eliminateFirst(line):\n",
        "  # second = line[1][0]\n",
        "  second_level_friend_list = line[1][0]\n",
        "  # print(second)\n",
        "  # first = line[1][1]\n",
        "  first_level_friend_list = line[1][1]\n",
        "  # print(first)\n",
        "  # rdd_data_second = sc.parallelize(second)\n",
        "  # rdd_data_first = sc.parallelize(first)\n",
        "  # result = rdd_data_second.subtract(rdd_data_first).collect()\n",
        "  # second_level_friend_list = sorted(second_level_friend_list)\n",
        "  # second_level_friend_set = set(second_level_friend_list)\n",
        "  first_level_friend_set = set(first_level_friend_list)\n",
        "  # diff = second_level_friend_set - first_level_friend_set\n",
        "  # diff_list = list(diff)\n",
        "  # diff_list.remove(1571)\n",
        "  for i in first_level_friend_set:\n",
        "    while i in second_level_friend_list:\n",
        "      second_level_friend_list.remove(i)\n",
        "  second_level_friend_list = sorted(second_level_friend_list)\n",
        "  result = Counter(second_level_friend_list).most_common(10)\n",
        "\n",
        "  if result == []:\n",
        "    output = []\n",
        "  else:\n",
        "    output = result\n",
        "    wrong = [i[0] for i in result]\n",
        "    # print(wrong)\n",
        "  # return (line[0], output)\n",
        "  return (line[0], wrong)\n",
        "\n",
        "getFriends = rdd12.map(eliminateFirst)\n",
        "# getFriends.collect()"
      ],
      "metadata": {
        "id": "V_c12jpLWJQ_"
      },
      "execution_count": null,
      "outputs": []
    },
    {
      "cell_type": "code",
      "source": [
        "# getFriends.collect()\n",
        "wanted = [10, 152, 288, 603, 714, 1525, 2434, 2681]\n",
        "result = getFriends.filter(lambda x: x[0] in wanted).collect()\n",
        "for each in sc.parallelize(result).sortBy(lambda pair: pair[0]).collect():\n",
        "    print(each)"
      ],
      "metadata": {
        "colab": {
          "base_uri": "https://localhost:8080/"
        },
        "id": "GHzqBRclklKy",
        "outputId": "9ee37ec7-012c-4533-e2d8-abb72597f636"
      },
      "execution_count": null,
      "outputs": [
        {
          "output_type": "stream",
          "name": "stdout",
          "text": [
            "(10, [(2, 1), (3, 1), (4, 1), (5, 1), (6, 1), (7, 1), (8, 1), (9, 1), (11, 1), (12, 1)])\n",
            "(152, [(2, 1), (3, 1), (4, 1), (5, 1), (6, 1), (7, 1), (8, 1), (9, 1), (10, 1), (11, 1)])\n",
            "(288, [(71, 3), (1525, 3), (69, 2), (90, 2), (217, 2), (2348, 2), (2351, 2), (2352, 2), (2354, 2), (2356, 2)])\n",
            "(603, [(1, 3), (289, 1), (290, 1), (291, 1), (292, 1), (293, 1), (294, 1), (295, 1), (296, 1), (297, 1)])\n",
            "(714, [(1, 2), (712, 2), (713, 2), (715, 2), (717, 2), (718, 2), (1525, 2), (90, 1), (217, 1), (247, 1)])\n",
            "(1525, [(288, 3), (1, 2), (710, 2), (714, 2), (603, 1)])\n",
            "(2434, [(71, 2), (288, 2), (711, 2), (716, 2), (719, 2), (720, 2), (2348, 2), (2351, 2), (2352, 2), (2354, 2)])\n",
            "(2681, [(71, 1), (288, 1), (710, 1), (711, 1), (716, 1), (719, 1), (720, 1), (721, 1), (722, 1), (2348, 1)])\n"
          ]
        }
      ]
    },
    {
      "cell_type": "code",
      "source": [
        "wanted = [10, 152, 288, 603, 714, 1525, 2434, 2681]\n",
        "result = getFriends.filter(lambda x: x[0] in wanted).collect()\n",
        "for each in sc.parallelize(result).sortBy(lambda pair: pair[0]).collect():\n",
        "    print(each)"
      ],
      "metadata": {
        "colab": {
          "base_uri": "https://localhost:8080/"
        },
        "id": "fj0i3SiWfeuO",
        "outputId": "cd0f0783-1340-43e8-a356-3ce5381a95cc"
      },
      "execution_count": null,
      "outputs": [
        {
          "output_type": "stream",
          "name": "stdout",
          "text": [
            "(10, [2, 3, 4, 5, 6, 7, 8, 9, 11, 12])\n",
            "(152, [2, 3, 4, 5, 6, 7, 8, 9, 10, 11])\n",
            "(288, [71, 1525, 69, 90, 217, 2348, 2351, 2352, 2354, 2356])\n",
            "(603, [1, 289, 290, 291, 292, 293, 294, 295, 296, 297])\n",
            "(714, [1, 712, 713, 715, 717, 718, 1525, 90, 217, 247])\n",
            "(1525, [288, 1, 710, 714, 603])\n",
            "(2434, [71, 288, 711, 716, 719, 720, 2348, 2351, 2352, 2354])\n",
            "(2681, [71, 288, 710, 711, 716, 719, 720, 721, 722, 2348])\n"
          ]
        }
      ]
    }
  ]
}