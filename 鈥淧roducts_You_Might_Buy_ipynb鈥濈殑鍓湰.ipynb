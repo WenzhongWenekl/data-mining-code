{
  "nbformat": 4,
  "nbformat_minor": 0,
  "metadata": {
    "colab": {
      "provenance": []
    },
    "kernelspec": {
      "name": "python3",
      "display_name": "Python 3"
    },
    "language_info": {
      "name": "python"
    }
  },
  "cells": [
    {
      "cell_type": "code",
      "source": [
        "!pip install pyspark\n",
        "!pip install -U -q PyDrive\n",
        "!apt install openjdk-8-jdk-headless -qq"
      ],
      "metadata": {
        "colab": {
          "base_uri": "https://localhost:8080/"
        },
        "id": "C9RSke17Cmjp",
        "outputId": "03dd4e7d-f231-461f-f3e9-229e600f8933"
      },
      "execution_count": null,
      "outputs": [
        {
          "output_type": "stream",
          "name": "stdout",
          "text": [
            "Looking in indexes: https://pypi.org/simple, https://us-python.pkg.dev/colab-wheels/public/simple/\n",
            "Collecting pyspark\n",
            "  Downloading pyspark-3.3.2.tar.gz (281.4 MB)\n",
            "\u001b[2K     \u001b[90m━━━━━━━━━━━━━━━━━━━━━━━━━━━━━━━━━━━━━━━\u001b[0m \u001b[32m281.4/281.4 MB\u001b[0m \u001b[31m3.3 MB/s\u001b[0m eta \u001b[36m0:00:00\u001b[0m\n",
            "\u001b[?25h  Preparing metadata (setup.py) ... \u001b[?25l\u001b[?25hdone\n",
            "Collecting py4j==0.10.9.5\n",
            "  Downloading py4j-0.10.9.5-py2.py3-none-any.whl (199 kB)\n",
            "\u001b[2K     \u001b[90m━━━━━━━━━━━━━━━━━━━━━━━━━━━━━━━━━━━━━━━\u001b[0m \u001b[32m199.7/199.7 kB\u001b[0m \u001b[31m4.9 MB/s\u001b[0m eta \u001b[36m0:00:00\u001b[0m\n",
            "\u001b[?25hBuilding wheels for collected packages: pyspark\n",
            "  Building wheel for pyspark (setup.py) ... \u001b[?25l\u001b[?25hdone\n",
            "  Created wheel for pyspark: filename=pyspark-3.3.2-py2.py3-none-any.whl size=281824028 sha256=c5a12f49656b74a9d692923f0894857f709679a8717c08fba0c19e0620d3b76b\n",
            "  Stored in directory: /root/.cache/pip/wheels/6c/e3/9b/0525ce8a69478916513509d43693511463c6468db0de237c86\n",
            "Successfully built pyspark\n",
            "Installing collected packages: py4j, pyspark\n",
            "  Attempting uninstall: py4j\n",
            "    Found existing installation: py4j 0.10.9.7\n",
            "    Uninstalling py4j-0.10.9.7:\n",
            "      Successfully uninstalled py4j-0.10.9.7\n",
            "Successfully installed py4j-0.10.9.5 pyspark-3.3.2\n",
            "The following additional packages will be installed:\n",
            "  libxtst6 openjdk-8-jre-headless\n",
            "Suggested packages:\n",
            "  openjdk-8-demo openjdk-8-source libnss-mdns fonts-dejavu-extra\n",
            "  fonts-ipafont-gothic fonts-ipafont-mincho fonts-wqy-microhei\n",
            "  fonts-wqy-zenhei fonts-indic\n",
            "The following NEW packages will be installed:\n",
            "  libxtst6 openjdk-8-jdk-headless openjdk-8-jre-headless\n",
            "0 upgraded, 3 newly installed, 0 to remove and 24 not upgraded.\n",
            "Need to get 36.5 MB of archives.\n",
            "After this operation, 144 MB of additional disk space will be used.\n",
            "Selecting previously unselected package libxtst6:amd64.\n",
            "(Reading database ... 122349 files and directories currently installed.)\n",
            "Preparing to unpack .../libxtst6_2%3a1.2.3-1_amd64.deb ...\n",
            "Unpacking libxtst6:amd64 (2:1.2.3-1) ...\n",
            "Selecting previously unselected package openjdk-8-jre-headless:amd64.\n",
            "Preparing to unpack .../openjdk-8-jre-headless_8u362-ga-0ubuntu1~20.04.1_amd64.deb ...\n",
            "Unpacking openjdk-8-jre-headless:amd64 (8u362-ga-0ubuntu1~20.04.1) ...\n",
            "Selecting previously unselected package openjdk-8-jdk-headless:amd64.\n",
            "Preparing to unpack .../openjdk-8-jdk-headless_8u362-ga-0ubuntu1~20.04.1_amd64.deb ...\n",
            "Unpacking openjdk-8-jdk-headless:amd64 (8u362-ga-0ubuntu1~20.04.1) ...\n",
            "Setting up libxtst6:amd64 (2:1.2.3-1) ...\n",
            "Setting up openjdk-8-jre-headless:amd64 (8u362-ga-0ubuntu1~20.04.1) ...\n",
            "update-alternatives: using /usr/lib/jvm/java-8-openjdk-amd64/jre/bin/orbd to provide /usr/bin/orbd (orbd) in auto mode\n",
            "update-alternatives: using /usr/lib/jvm/java-8-openjdk-amd64/jre/bin/servertool to provide /usr/bin/servertool (servertool) in auto mode\n",
            "update-alternatives: using /usr/lib/jvm/java-8-openjdk-amd64/jre/bin/tnameserv to provide /usr/bin/tnameserv (tnameserv) in auto mode\n",
            "Setting up openjdk-8-jdk-headless:amd64 (8u362-ga-0ubuntu1~20.04.1) ...\n",
            "update-alternatives: using /usr/lib/jvm/java-8-openjdk-amd64/bin/idlj to provide /usr/bin/idlj (idlj) in auto mode\n",
            "update-alternatives: using /usr/lib/jvm/java-8-openjdk-amd64/bin/wsimport to provide /usr/bin/wsimport (wsimport) in auto mode\n",
            "update-alternatives: using /usr/lib/jvm/java-8-openjdk-amd64/bin/jsadebugd to provide /usr/bin/jsadebugd (jsadebugd) in auto mode\n",
            "update-alternatives: using /usr/lib/jvm/java-8-openjdk-amd64/bin/native2ascii to provide /usr/bin/native2ascii (native2ascii) in auto mode\n",
            "update-alternatives: using /usr/lib/jvm/java-8-openjdk-amd64/bin/javah to provide /usr/bin/javah (javah) in auto mode\n",
            "update-alternatives: using /usr/lib/jvm/java-8-openjdk-amd64/bin/hsdb to provide /usr/bin/hsdb (hsdb) in auto mode\n",
            "update-alternatives: using /usr/lib/jvm/java-8-openjdk-amd64/bin/clhsdb to provide /usr/bin/clhsdb (clhsdb) in auto mode\n",
            "update-alternatives: using /usr/lib/jvm/java-8-openjdk-amd64/bin/xjc to provide /usr/bin/xjc (xjc) in auto mode\n",
            "update-alternatives: using /usr/lib/jvm/java-8-openjdk-amd64/bin/schemagen to provide /usr/bin/schemagen (schemagen) in auto mode\n",
            "update-alternatives: using /usr/lib/jvm/java-8-openjdk-amd64/bin/extcheck to provide /usr/bin/extcheck (extcheck) in auto mode\n",
            "update-alternatives: using /usr/lib/jvm/java-8-openjdk-amd64/bin/jhat to provide /usr/bin/jhat (jhat) in auto mode\n",
            "update-alternatives: using /usr/lib/jvm/java-8-openjdk-amd64/bin/wsgen to provide /usr/bin/wsgen (wsgen) in auto mode\n",
            "Processing triggers for libc-bin (2.31-0ubuntu9.9) ...\n"
          ]
        }
      ]
    },
    {
      "cell_type": "code",
      "execution_count": null,
      "metadata": {
        "id": "M1JD3KF19xRP"
      },
      "outputs": [],
      "source": [
        "from pyspark.sql import SparkSession\n",
        "import pyspark\n",
        "from pyspark.sql import *\n",
        "from pyspark.sql.functions import *\n",
        "from pyspark import SparkContext\n",
        "import pandas as pd\n",
        "from pyspark.ml.fpm import FPGrowth"
      ]
    },
    {
      "cell_type": "code",
      "source": [
        "sc = pyspark.SparkContext()\n",
        "spark = SparkSession.builder.getOrCreate()"
      ],
      "metadata": {
        "id": "iIbaKTViEFkm"
      },
      "execution_count": null,
      "outputs": []
    },
    {
      "cell_type": "code",
      "source": [
        "# read the dataset into a DataFrame and split the items into an array column\n",
        "rdd = spark.sparkContext.textFile(\"browsing.txt\")\n",
        "transactions = rdd.map(lambda line: line.strip().split(' ')).toDF(\"\")\n",
        "from google.colab import drive\n",
        "drive.mount('/content/gdrive')\n",
        "import sys\n",
        "sys.path.append('/content/drive/My Drive')"
      ],
      "metadata": {
        "id": "hXR_ixGVS2WL",
        "colab": {
          "base_uri": "https://localhost:8080/"
        },
        "outputId": "c4ed825c-880b-4afd-8d6f-dcec006aff22"
      },
      "execution_count": null,
      "outputs": [
        {
          "output_type": "stream",
          "name": "stdout",
          "text": [
            "Mounted at /content/gdrive\n"
          ]
        }
      ]
    },
    {
      "cell_type": "code",
      "source": [
        "# Load the browsing.txt file into a dataframe\n",
        "data = spark.read.text(\"/content/gdrive/MyDrive/Colab Notebooks/CSC 4008/browsing.txt\")\n",
        "\n",
        "# Split each line of the dataframe into individual items\n",
        "transactions = data.selectExpr(\"filter(split(value, ' '), x -> x != '') as items\")\n",
        "transactions = transactions.select(array_distinct(\"items\").alias(\"items\"))"
      ],
      "metadata": {
        "id": "W7s6HJovttix"
      },
      "execution_count": null,
      "outputs": []
    },
    {
      "cell_type": "code",
      "source": [
        "transactions.take(1)"
      ],
      "metadata": {
        "colab": {
          "base_uri": "https://localhost:8080/"
        },
        "id": "gjF5YvROtvj7",
        "outputId": "71dab27b-baf4-42d6-9ee5-94d68d6e111d"
      },
      "execution_count": null,
      "outputs": [
        {
          "output_type": "execute_result",
          "data": {
            "text/plain": [
              "[Row(items=['FRO11987', 'ELE17451', 'ELE89019', 'SNA90258', 'GRO99222'])]"
            ]
          },
          "metadata": {},
          "execution_count": 10
        }
      ]
    },
    {
      "cell_type": "code",
      "source": [
        "N = transactions.count()\n",
        "s = 100\n",
        "min_support = s/N"
      ],
      "metadata": {
        "id": "fMssb6UiRBz3"
      },
      "execution_count": null,
      "outputs": []
    },
    {
      "cell_type": "code",
      "source": [
        "fpGrowth = FPGrowth(itemsCol=\"items\", minSupport=min_support, minConfidence=0.0)\n",
        "model = fpGrowth.fit(transactions)"
      ],
      "metadata": {
        "id": "WVB_9xn2rv-M"
      },
      "execution_count": null,
      "outputs": []
    },
    {
      "cell_type": "code",
      "source": [
        "freq_itemsets = model.freqItemsets.filter(size(col(\"items\")) == 1)\n",
        "freq_itemsets.count()"
      ],
      "metadata": {
        "colab": {
          "base_uri": "https://localhost:8080/"
        },
        "id": "0ey1L8tuvxVd",
        "outputId": "52f27319-94ad-4b6e-c41e-243101552777"
      },
      "execution_count": null,
      "outputs": [
        {
          "output_type": "execute_result",
          "data": {
            "text/plain": [
              "647"
            ]
          },
          "metadata": {},
          "execution_count": 13
        }
      ]
    },
    {
      "cell_type": "code",
      "source": [
        "rules_set = model.associationRules.filter(size(col(\"antecedent\")) == 1)\n",
        "rules_set.sort([\"confidence\",\"antecedent\"], ascending=[False, True]).show()"
      ],
      "metadata": {
        "colab": {
          "base_uri": "https://localhost:8080/"
        },
        "id": "TstFDpcLD-zA",
        "outputId": "40d49d3e-a586-4a99-ca26-f3f924d48573"
      },
      "execution_count": null,
      "outputs": [
        {
          "output_type": "stream",
          "name": "stdout",
          "text": [
            "+----------+----------+------------------+------------------+--------------------+\n",
            "|antecedent|consequent|        confidence|              lift|             support|\n",
            "+----------+----------+------------------+------------------+--------------------+\n",
            "|[DAI93865]|[FRO40251]|               1.0| 8.013656274156146|0.006687887849265297|\n",
            "|[GRO85051]|[FRO40251]| 0.999176276771005|  8.00705523933394|0.039001961351725026|\n",
            "|[GRO38636]|[FRO40251]|0.9906542056074766| 7.938762290285528|0.003408250538567...|\n",
            "|[ELE12951]|[FRO40251]|0.9905660377358491|  7.93805574326788| 0.00337609723160027|\n",
            "|[DAI88079]|[FRO40251]|0.9867256637168141| 7.907280305915135|0.014340374907559243|\n",
            "|[FRO92469]|[FRO40251]| 0.983510011778563| 7.881511176584666|0.026848011317964052|\n",
            "|[DAI43868]|[SNA82528]| 0.972972972972973|50.943488943488944|0.009260152406675026|\n",
            "|[DAI23334]|[DAI62779]|0.9545454545454546| 4.452875083518551|0.008777852802160702|\n",
            "|[ELE92920]|[DAI62779]|0.7326649958228906|3.4178212142024478| 0.02819845021060416|\n",
            "|[DAI53152]|[FRO40251]| 0.717948717948718| 5.753394248112104|0.004501462975467027|\n",
            "|[SNA18336]|[DAI62779]|0.7136812411847673|3.3292635791341603| 0.01626957332561654|\n",
            "|[ELE55848]|[GRO32086]|0.7094594594594594| 25.77675075776711| 0.00337609723160027|\n",
            "|[GRO89004]|[ELE25077]| 0.698051948051948| 45.41864777481932|0.006912960998038648|\n",
            "|[GRO81647]|[GRO73461]|0.6775510204081633| 5.850226064884588|0.010674897913250377|\n",
            "|[DAI37288]|[ELE32164]|0.6464088397790055|  7.05154729076354|0.003761936915211...|\n",
            "|[SNA18336]|[ELE92920]|0.6417489421720733|16.674213743102467|0.014629754670267838|\n",
            "|[ELE32244]|[ELE66600]|0.6403508771929824|11.626125295726181|0.007041574225909134|\n",
            "|[FRO47962]|[DAI75645]|0.6176470588235294| 7.020994582043344|0.006076975016880486|\n",
            "|[FRO73056]|[GRO44993]|0.6016483516483516|15.684715326584561|0.014083148451818269|\n",
            "|[FRO19221]|[DAI62779]|0.5976714100905562|2.7880873744152375|0.014854827819041188|\n",
            "+----------+----------+------------------+------------------+--------------------+\n",
            "only showing top 20 rows\n",
            "\n"
          ]
        }
      ]
    },
    {
      "cell_type": "code",
      "source": [
        "rules_set.sort([\"confidence\",\"antecedent\"], ascending=[False, True]).limit(5).show()"
      ],
      "metadata": {
        "colab": {
          "base_uri": "https://localhost:8080/"
        },
        "id": "kzywtPBez3WV",
        "outputId": "e5a231d7-933a-4962-b397-e32409e40aa8"
      },
      "execution_count": null,
      "outputs": [
        {
          "output_type": "stream",
          "name": "stdout",
          "text": [
            "+----------+----------+------------------+-----------------+--------------------+\n",
            "|antecedent|consequent|        confidence|             lift|             support|\n",
            "+----------+----------+------------------+-----------------+--------------------+\n",
            "|[DAI93865]|[FRO40251]|               1.0|8.013656274156146|0.006687887849265297|\n",
            "|[GRO85051]|[FRO40251]| 0.999176276771005| 8.00705523933394|0.039001961351725026|\n",
            "|[GRO38636]|[FRO40251]|0.9906542056074766|7.938762290285528|0.003408250538567...|\n",
            "|[ELE12951]|[FRO40251]|0.9905660377358491| 7.93805574326788| 0.00337609723160027|\n",
            "|[DAI88079]|[FRO40251]|0.9867256637168141|7.907280305915135|0.014340374907559243|\n",
            "+----------+----------+------------------+-----------------+--------------------+\n",
            "\n"
          ]
        }
      ]
    },
    {
      "cell_type": "code",
      "source": [
        "freq_itemsets = model.freqItemsets.filter(size(col(\"items\")) == 3)\n",
        "freq_itemsets.count()"
      ],
      "metadata": {
        "colab": {
          "base_uri": "https://localhost:8080/"
        },
        "id": "y9WCjR3G1_JJ",
        "outputId": "b05e628b-433d-44de-d1ae-b5d3f995e241"
      },
      "execution_count": null,
      "outputs": [
        {
          "output_type": "execute_result",
          "data": {
            "text/plain": [
              "233"
            ]
          },
          "metadata": {},
          "execution_count": 16
        }
      ]
    },
    {
      "cell_type": "code",
      "source": [
        "rules_set = model.associationRules.filter(size(col(\"antecedent\")) == 2)\n",
        "rules_set = rules_set.withColumn('antecedent', sort_array(rules_set.antecedent))\n",
        "rules_set.sort([\"confidence\",\"antecedent\"], ascending=[False, True]).show()"
      ],
      "metadata": {
        "colab": {
          "base_uri": "https://localhost:8080/"
        },
        "id": "4pQWQjC92GaO",
        "outputId": "eb9c2047-8517-4cc2-b617-43aea9c4efdf"
      },
      "execution_count": null,
      "outputs": [
        {
          "output_type": "stream",
          "name": "stdout",
          "text": [
            "+--------------------+----------+------------------+-----------------+--------------------+\n",
            "|          antecedent|consequent|        confidence|             lift|             support|\n",
            "+--------------------+----------+------------------+-----------------+--------------------+\n",
            "|[DAI23334, ELE92920]|[DAI62779]|               1.0|4.664916754162292|0.004597922896369...|\n",
            "|[DAI31081, GRO85051]|[FRO40251]|               1.0|8.013656274156146|0.003279637310697405|\n",
            "|[DAI55911, GRO85051]|[FRO40251]|               1.0|8.013656274156146|0.004276389826693...|\n",
            "|[DAI62779, DAI88079]|[FRO40251]|               1.0|8.013656274156146|0.003761936915211...|\n",
            "|[DAI75645, GRO85051]|[FRO40251]|               1.0|8.013656274156146| 0.01270055625221054|\n",
            "|[ELE17451, GRO85051]|[FRO40251]|               1.0|8.013656274156146|0.006977267611973891|\n",
            "|[ELE20847, FRO92469]|[FRO40251]|               1.0|8.013656274156146|0.003922703450049837|\n",
            "|[ELE20847, GRO85051]|[FRO40251]|               1.0|8.013656274156146|0.004469309668499...|\n",
            "|[ELE26917, GRO85051]|[FRO40251]|               1.0|8.013656274156146|0.004694382817272757|\n",
            "|[FRO53271, GRO85051]|[FRO40251]|               1.0|8.013656274156146| 0.00337609723160027|\n",
            "|[GRO21487, GRO85051]|[FRO40251]|               1.0|8.013656274156146|0.003858396836114...|\n",
            "|[GRO38814, GRO85051]|[FRO40251]|               1.0|8.013656274156146|0.003697630301276...|\n",
            "|[GRO73461, GRO85051]|[FRO40251]|               1.0|8.013656274156146|0.004726536124240378|\n",
            "|[GRO85051, SNA45677]|[FRO40251]|               1.0|8.013656274156146|0.003440403845535...|\n",
            "|[GRO85051, SNA80324]|[FRO40251]|               1.0|8.013656274156146|0.015144207581749784|\n",
            "|[DAI62779, GRO85051]|[FRO40251]|0.9973821989528796|7.992678116370397|0.012250409954663838|\n",
            "|[DAI75645, DAI88079]|[FRO40251]|0.9932885906040269|7.959873346141675|   0.004758689431208|\n",
            "|[DAI88079, GRO73461]|[FRO40251]| 0.993103448275862|7.958389679161965|0.004630076203337513|\n",
            "|[DAI88079, ELE17451]|[FRO40251]|0.9919354838709677|7.949030013880693| 0.00395485675701746|\n",
            "|[FRO92469, GRO73461]|[FRO40251]|0.9906103286384976|7.938410675337778|0.006784347770168...|\n",
            "+--------------------+----------+------------------+-----------------+--------------------+\n",
            "only showing top 20 rows\n",
            "\n"
          ]
        }
      ]
    },
    {
      "cell_type": "code",
      "source": [
        "rules_set.sort([\"confidence\",\"antecedent\"], ascending=[False, True]).limit(5).show()"
      ],
      "metadata": {
        "colab": {
          "base_uri": "https://localhost:8080/"
        },
        "id": "oYKyQtD42Jpx",
        "outputId": "4010165e-13d6-49e4-c7bb-90b04eb06c1d"
      },
      "execution_count": null,
      "outputs": [
        {
          "output_type": "stream",
          "name": "stdout",
          "text": [
            "+--------------------+----------+----------+-----------------+--------------------+\n",
            "|          antecedent|consequent|confidence|             lift|             support|\n",
            "+--------------------+----------+----------+-----------------+--------------------+\n",
            "|[DAI23334, ELE92920]|[DAI62779]|       1.0|4.664916754162292|0.004597922896369...|\n",
            "|[DAI31081, GRO85051]|[FRO40251]|       1.0|8.013656274156146|0.003279637310697405|\n",
            "|[DAI55911, GRO85051]|[FRO40251]|       1.0|8.013656274156146|0.004276389826693...|\n",
            "|[DAI62779, DAI88079]|[FRO40251]|       1.0|8.013656274156146|0.003761936915211...|\n",
            "|[DAI75645, GRO85051]|[FRO40251]|       1.0|8.013656274156146| 0.01270055625221054|\n",
            "+--------------------+----------+----------+-----------------+--------------------+\n",
            "\n"
          ]
        }
      ]
    }
  ]
}