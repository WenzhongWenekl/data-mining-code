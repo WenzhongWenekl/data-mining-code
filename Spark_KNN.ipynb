{
  "nbformat": 4,
  "nbformat_minor": 0,
  "metadata": {
    "colab": {
      "provenance": []
    },
    "kernelspec": {
      "name": "python3",
      "display_name": "Python 3"
    },
    "language_info": {
      "name": "python"
    }
  },
  "cells": [
    {
      "cell_type": "markdown",
      "source": [
        "# **CSC 4008 Assignment 4 (Q1) - 119020062 许文仲**"
      ],
      "metadata": {
        "id": "XbVk69VM_yFc"
      }
    },
    {
      "cell_type": "code",
      "execution_count": null,
      "metadata": {
        "id": "zlwHAkqrflJ1",
        "colab": {
          "base_uri": "https://localhost:8080/"
        },
        "outputId": "ec1895a9-66ad-4cbb-bbf6-69b863dd4d53"
      },
      "outputs": [
        {
          "output_type": "stream",
          "name": "stdout",
          "text": [
            "Looking in indexes: https://pypi.org/simple, https://us-python.pkg.dev/colab-wheels/public/simple/\n",
            "Requirement already satisfied: pyspark in /usr/local/lib/python3.10/dist-packages (3.4.0)\n",
            "Requirement already satisfied: py4j==0.10.9.7 in /usr/local/lib/python3.10/dist-packages (from pyspark) (0.10.9.7)\n",
            "openjdk-8-jdk-headless is already the newest version (8u362-ga-0ubuntu1~20.04.1).\n",
            "0 upgraded, 0 newly installed, 0 to remove and 24 not upgraded.\n"
          ]
        }
      ],
      "source": [
        "!pip install pyspark\n",
        "!pip install -U -q PyDrive\n",
        "!apt install openjdk-8-jdk-headless -qq"
      ]
    },
    {
      "cell_type": "code",
      "source": [
        "from google.colab import drive\n",
        "drive.mount('/content/gdrive')\n",
        "import sys\n",
        "sys.path.append('/content/drive/My Drive')"
      ],
      "metadata": {
        "id": "jcZpmEtkgzJ2",
        "colab": {
          "base_uri": "https://localhost:8080/"
        },
        "outputId": "b7322282-5600-4927-8e32-925e8d5d1ece"
      },
      "execution_count": null,
      "outputs": [
        {
          "output_type": "stream",
          "name": "stdout",
          "text": [
            "Mounted at /content/gdrive\n"
          ]
        }
      ]
    },
    {
      "cell_type": "code",
      "source": [
        "# Let's import the libraries we will need\n",
        "import pandas as pd\n",
        "import numpy as np\n",
        "import matplotlib.pyplot as plt\n",
        "%matplotlib inline\n",
        "\n",
        "\n",
        "from pyspark.sql import SparkSession\n",
        "import pyspark\n",
        "from pyspark.sql import *\n",
        "from pyspark.sql.functions import *\n",
        "from pyspark import SparkContext"
      ],
      "metadata": {
        "id": "fd7uojZ_hIEJ"
      },
      "execution_count": null,
      "outputs": []
    },
    {
      "cell_type": "code",
      "source": [
        "# spark = SparkSession.builder.getOrCreate()\n",
        "sc = pyspark.SparkContext.getOrCreate()\n",
        "path_c1 = \"/content/gdrive/MyDrive/Colab Notebooks/CSC 4008/c1.txt\"\n",
        "path_c2 = \"/content/gdrive/MyDrive/Colab Notebooks/CSC 4008/c2.txt\"\n",
        "path_X = \"/content/gdrive/MyDrive/Colab Notebooks/CSC 4008/data.txt\"\n",
        "\n",
        "data_X = sc.textFile(path_X)\n",
        "centroid1 = sc.textFile(path_c1)\n",
        "centroid2 = sc.textFile(path_c2)\n",
        "# rdd.collect()"
      ],
      "metadata": {
        "id": "TwXXXT-NjLrR"
      },
      "execution_count": null,
      "outputs": []
    },
    {
      "cell_type": "code",
      "source": [
        "# get the first level friend RDD\n",
        "rdd_X = data_X.map(lambda x: x.split(\" \"))\n",
        "rdd_c1 = centroid1.map(lambda x: x.split(\" \"))\n",
        "rdd_c2 = centroid2.map(lambda x: x.split(\" \"))"
      ],
      "metadata": {
        "id": "uDr7KPkq9vI3"
      },
      "execution_count": null,
      "outputs": []
    },
    {
      "cell_type": "code",
      "source": [
        "c1 = np.array(rdd_c1.collect())\n",
        "c1_list = []\n",
        "for i in c1:\n",
        "  c1_list.append(np.array(list(map(float, i))))"
      ],
      "metadata": {
        "id": "5iC0eqAxaiID"
      },
      "execution_count": null,
      "outputs": []
    },
    {
      "cell_type": "code",
      "source": [
        "# Using Euclidean distance\n",
        "c1 = np.array(rdd_c1.collect())\n",
        "c1_list = []\n",
        "for i in c1:\n",
        "  c1_list.append(np.array(list(map(float, i))))\n",
        "\n",
        "def findc1(line):\n",
        "  # 找到每个点属于哪一类\n",
        "  line = list(line)\n",
        "  p = list(map(float, line))\n",
        "  p = np.array(p)\n",
        "  Eu_list = []\n",
        "  # result = np.sqrt(np.sum(np.square(np.array(centroid) - p)))\n",
        "  for centroid in c1_list:\n",
        "    Eu_dis = np.sqrt(np.sum(np.square(centroid - p)))\n",
        "    Eu_list.append(Eu_dis)\n",
        "  result = np.argmin(np.array(Eu_list))\n",
        "  return (result, p)\n",
        "\n",
        "def find_obj(line):\n",
        "  clas = line[0]\n",
        "  point = line[1]\n",
        "  square_Eu = np.sum(np.square(c1_list[clas] - point))\n",
        "  return square_Eu\n",
        "\n",
        "\n",
        "def update_c1(line):\n",
        "  # 更新 C1\n",
        "  points = np.array(line[1])\n",
        "  result = np.average(points, axis=0)\n",
        "  return (line[0], result)\n",
        "\n",
        "def find_c1(rdd_c1):\n",
        "  # 将新 C1 做成我们想要的格式\n",
        "  collect_c1 = rdd_c1.collect()\n",
        "  collect_c1 = sorted(collect_c1)\n",
        "  c1_list = []\n",
        "  for i in collect_c1:\n",
        "    c1_list.append(i[1])\n",
        "  return c1_list\n",
        "\n",
        "\n",
        "\n",
        "k = 10\n",
        "max_iter = 20\n",
        "phi1_list = []\n",
        "while max_iter > 0:\n",
        "  print(max_iter)\n",
        "\n",
        "  temp = rdd_X.map(findc1)\n",
        "\n",
        "  obj = temp.map(find_obj)\n",
        "  phi = obj.sum()\n",
        "  phi1_list.append(phi)\n",
        "  print(phi)\n",
        "\n",
        "  iteration = temp.groupByKey().map(lambda x : (x[0], list(x[1])))\n",
        "\n",
        "  new_c1 = iteration.map(update_c1)\n",
        "  c1_list = find_c1(new_c1)\n",
        "  max_iter -= 1\n",
        "\n",
        "# test = rdd_X.map(findc1)\n",
        "# ite1 = test.groupByKey().map(lambda x : (x[0], list(x[1])))\n"
      ],
      "metadata": {
        "id": "HV8hP7KZO-aK",
        "colab": {
          "base_uri": "https://localhost:8080/"
        },
        "outputId": "e709c4fc-cdf9-4383-f773-33bf3498957d"
      },
      "execution_count": null,
      "outputs": [
        {
          "output_type": "stream",
          "name": "stdout",
          "text": [
            "20\n",
            "623660345.3064115\n",
            "19\n",
            "509862908.2975454\n",
            "18\n",
            "485480681.8720084\n",
            "17\n",
            "463997011.68501294\n",
            "16\n",
            "460969266.5729968\n",
            "15\n",
            "460537847.9827684\n",
            "14\n",
            "460313099.6535447\n",
            "13\n",
            "460003523.8894081\n",
            "12\n",
            "459570539.3177352\n",
            "11\n",
            "459021103.3422909\n",
            "10\n",
            "458490656.1919812\n",
            "9\n",
            "457944232.5879751\n",
            "8\n",
            "457558005.1986773\n",
            "7\n",
            "457290136.35230196\n",
            "6\n",
            "457050555.05956286\n",
            "5\n",
            "456892235.61535585\n",
            "4\n",
            "456703630.7370345\n",
            "3\n",
            "456404203.01897514\n",
            "2\n",
            "456177800.541994\n",
            "1\n",
            "455986871.0273468\n"
          ]
        }
      ]
    },
    {
      "cell_type": "code",
      "source": [
        "c2 = np.array(rdd_c2.collect())\n",
        "c2_list = []\n",
        "for i in c2:\n",
        "  c2_list.append(np.array(list(map(float, i))))\n",
        "\n",
        "def findc2(line):\n",
        "  # 找到每个点属于哪一类\n",
        "  line = list(line)\n",
        "  p = list(map(float, line))\n",
        "  p = np.array(p)\n",
        "  Eu_list = []\n",
        "  # result = np.sqrt(np.sum(np.square(np.array(centroid) - p)))\n",
        "  for centroid in c2_list:\n",
        "    Eu_dis = np.sqrt(np.sum(np.square(centroid - p)))\n",
        "    Eu_list.append(Eu_dis)\n",
        "  result = np.argmin(np.array(Eu_list))\n",
        "  return (result, p)\n",
        "\n",
        "def find_obj(line):\n",
        "  clas = line[0]\n",
        "  point = line[1]\n",
        "  square_Eu = np.sum(np.square(c2_list[clas] - point))\n",
        "  return square_Eu\n",
        "\n",
        "\n",
        "def update_c2(line):\n",
        "  # 更新 C2\n",
        "  points = np.array(line[1])\n",
        "  result = np.average(points, axis=0)\n",
        "  return (line[0], result)\n",
        "\n",
        "def find_c2(rdd_c2):\n",
        "  # 将新 C2 做成我们想要的格式\n",
        "  collect_c2 = rdd_c2.collect()\n",
        "  collect_c2 = sorted(collect_c2)\n",
        "  c2_list = []\n",
        "  for i in collect_c2:\n",
        "    c2_list.append(i[1])\n",
        "  return c2_list\n",
        "\n",
        "\n",
        "\n",
        "k = 10\n",
        "max_iter = 20\n",
        "phi2_list = []\n",
        "while max_iter > 0:\n",
        "  print(max_iter)\n",
        "\n",
        "  temp = rdd_X.map(findc2)\n",
        "\n",
        "  obj = temp.map(find_obj)\n",
        "  phi = obj.sum()\n",
        "  phi2_list.append(phi)\n",
        "  print(phi)\n",
        "\n",
        "  iteration = temp.groupByKey().map(lambda x : (x[0], list(x[1])))\n",
        "\n",
        "  new_c2 = iteration.map(update_c2)\n",
        "  c2_list = find_c2(new_c2)\n",
        "  max_iter -= 1\n",
        "\n",
        "# test = rdd_X.map(findc2)\n",
        "# ite1 = test.groupByKey().map(lambda x : (x[0], list(x[1])))\n"
      ],
      "metadata": {
        "id": "vgCH3up7aWdO",
        "colab": {
          "base_uri": "https://localhost:8080/"
        },
        "outputId": "db04c0b8-7737-4080-e7e9-63e0c0cf9712"
      },
      "execution_count": null,
      "outputs": [
        {
          "output_type": "stream",
          "name": "stdout",
          "text": [
            "20\n",
            "438747790.02791756\n",
            "19\n",
            "249803933.62600276\n",
            "18\n",
            "194494814.40631256\n",
            "17\n",
            "169804841.4515432\n",
            "16\n",
            "156295748.8062759\n",
            "15\n",
            "149094208.10896596\n",
            "14\n",
            "142508531.61961532\n",
            "13\n",
            "132303869.40652987\n",
            "12\n",
            "117170969.83719075\n",
            "11\n",
            "108547377.17857003\n",
            "10\n",
            "102237203.3179959\n",
            "9\n",
            "98278015.74975666\n",
            "8\n",
            "95630226.12177408\n",
            "7\n",
            "93793314.051193\n",
            "6\n",
            "92377131.96821065\n",
            "5\n",
            "91541606.25423889\n",
            "4\n",
            "91045573.83042458\n",
            "3\n",
            "90752240.10140811\n",
            "2\n",
            "90470170.18122731\n",
            "1\n",
            "90216416.1756313\n"
          ]
        }
      ]
    },
    {
      "cell_type": "code",
      "source": [
        "# Using Manhattan distance\n",
        "c1 = np.array(rdd_c1.collect())\n",
        "c1_list = []\n",
        "for i in c1:\n",
        "  c1_list.append(np.array(list(map(float, i))))\n",
        "\n",
        "def findc1(line):\n",
        "  # 找到每个点属于哪一类\n",
        "  line = list(line)\n",
        "  p = list(map(float, line))\n",
        "  p = np.array(p)\n",
        "  Eu_list = []\n",
        "  # result = np.sqrt(np.sum(np.square(np.array(centroid) - p)))\n",
        "  for centroid in c1_list:\n",
        "    Eu_dis = np.sum(np.abs(centroid - p))\n",
        "    Eu_list.append(Eu_dis)\n",
        "  result = np.argmin(np.array(Eu_list))\n",
        "  return (result, p)\n",
        "\n",
        "def find_obj(line):\n",
        "  clas = line[0]\n",
        "  point = line[1]\n",
        "  square_Eu = np.sum(np.abs(c1_list[clas] - point))\n",
        "  return square_Eu\n",
        "\n",
        "\n",
        "def update_c1(line):\n",
        "  # 更新 C1\n",
        "  points = np.array(line[1])\n",
        "  result = np.average(points, axis=0)\n",
        "  return (line[0], result)\n",
        "\n",
        "def find_c1(rdd_c1):\n",
        "  # 将新 C1 做成我们想要的格式\n",
        "  collect_c1 = rdd_c1.collect()\n",
        "  collect_c1 = sorted(collect_c1)\n",
        "  c1_list = []\n",
        "  for i in collect_c1:\n",
        "    c1_list.append(i[1])\n",
        "  return c1_list\n",
        "\n",
        "\n",
        "\n",
        "k = 10\n",
        "max_iter = 20\n",
        "Mphi1_list = []\n",
        "while max_iter > 0:\n",
        "  print(max_iter)\n",
        "\n",
        "  temp = rdd_X.map(findc1)\n",
        "\n",
        "  obj = temp.map(find_obj)\n",
        "  phi = obj.sum()\n",
        "  Mphi1_list.append(phi)\n",
        "  print(phi)\n",
        "\n",
        "  iteration = temp.groupByKey().map(lambda x : (x[0], list(x[1])))\n",
        "\n",
        "  new_c1 = iteration.map(update_c1)\n",
        "  c1_list = find_c1(new_c1)\n",
        "  max_iter -= 1\n",
        "\n",
        "# test = rdd_X.map(findc1)\n",
        "# ite1 = test.groupByKey().map(lambda x : (x[0], list(x[1])))\n"
      ],
      "metadata": {
        "id": "5TAvTNaqfgZv",
        "colab": {
          "base_uri": "https://localhost:8080/"
        },
        "outputId": "c2927298-15d2-46e9-e305-e56b042f3f34"
      },
      "execution_count": null,
      "outputs": [
        {
          "output_type": "stream",
          "name": "stdout",
          "text": [
            "20\n",
            "550117.1419999995\n",
            "19\n",
            "464829.2684039448\n",
            "18\n",
            "470934.15384668094\n",
            "17\n",
            "483874.81628509343\n",
            "16\n",
            "489234.23478834634\n",
            "15\n",
            "487664.6926267904\n",
            "14\n",
            "483718.6659285149\n",
            "13\n",
            "475337.9476330566\n",
            "12\n",
            "474871.9665496566\n",
            "11\n",
            "457244.7897417528\n",
            "10\n",
            "447493.1956040521\n",
            "9\n",
            "450891.8358047706\n",
            "8\n",
            "451232.57747569657\n",
            "7\n",
            "451860.12588546576\n",
            "6\n",
            "451567.2235891488\n",
            "5\n",
            "452710.0520999437\n",
            "4\n",
            "453078.22696184996\n",
            "3\n",
            "450646.13556209404\n",
            "2\n",
            "450419.9701134367\n",
            "1\n",
            "449009.5903718855\n"
          ]
        }
      ]
    },
    {
      "cell_type": "code",
      "source": [
        "c2 = np.array(rdd_c2.collect())\n",
        "c2_list = []\n",
        "for i in c2:\n",
        "  c2_list.append(np.array(list(map(float, i))))\n",
        "\n",
        "def findc2(line):\n",
        "  # 找到每个点属于哪一类\n",
        "  line = list(line)\n",
        "  p = list(map(float, line))\n",
        "  p = np.array(p)\n",
        "  Eu_list = []\n",
        "  # result = np.sqrt(np.sum(np.square(np.array(centroid) - p)))\n",
        "  for centroid in c2_list:\n",
        "    Eu_dis = np.sum(np.abs(centroid - p))\n",
        "    Eu_list.append(Eu_dis)\n",
        "  result = np.argmin(np.array(Eu_list))\n",
        "  return (result, p)\n",
        "\n",
        "def find_obj(line):\n",
        "  clas = line[0]\n",
        "  point = line[1]\n",
        "  square_Eu = np.sum(np.abs(c2_list[clas] - point))\n",
        "  return square_Eu\n",
        "\n",
        "\n",
        "def update_c2(line):\n",
        "  # 更新 C2\n",
        "  points = np.array(line[1])\n",
        "  result = np.average(points, axis=0)\n",
        "  return (line[0], result)\n",
        "\n",
        "def find_c2(rdd_c2):\n",
        "  # 将新 C2 做成我们想要的格式\n",
        "  collect_c2 = rdd_c2.collect()\n",
        "  collect_c2 = sorted(collect_c2)\n",
        "  c2_list = []\n",
        "  for i in collect_c2:\n",
        "    c2_list.append(i[1])\n",
        "  return c2_list\n",
        "\n",
        "\n",
        "\n",
        "k = 10\n",
        "max_iter = 20\n",
        "Mphi2_list = []\n",
        "while max_iter > 0:\n",
        "  print(max_iter)\n",
        "\n",
        "  temp = rdd_X.map(findc2)\n",
        "\n",
        "  obj = temp.map(find_obj)\n",
        "  phi = obj.sum()\n",
        "  Mphi2_list.append(phi)\n",
        "  print(phi)\n",
        "\n",
        "  iteration = temp.groupByKey().map(lambda x : (x[0], list(x[1])))\n",
        "\n",
        "  new_c2 = iteration.map(update_c2)\n",
        "  c2_list = find_c2(new_c2)\n",
        "  max_iter -= 1\n",
        "\n",
        "# test = rdd_X.map(findc2)\n",
        "# ite1 = test.groupByKey().map(lambda x : (x[0], list(x[1])))\n"
      ],
      "metadata": {
        "id": "Ds30RD3zgPjm",
        "colab": {
          "base_uri": "https://localhost:8080/"
        },
        "outputId": "9c104481-c4fb-4cf5-da39-4317fa452bf6"
      },
      "execution_count": null,
      "outputs": [
        {
          "output_type": "stream",
          "name": "stdout",
          "text": [
            "20\n",
            "1433739.3099999954\n",
            "19\n",
            "1084488.7769648773\n",
            "18\n",
            "973431.7146620404\n",
            "17\n",
            "895934.592563071\n",
            "16\n",
            "865128.3352940815\n",
            "15\n",
            "845846.647031348\n",
            "14\n",
            "827219.5827561249\n",
            "13\n",
            "803590.3456011118\n",
            "12\n",
            "756039.5172761207\n",
            "11\n",
            "717332.9025432297\n",
            "10\n",
            "694587.9252526882\n",
            "9\n",
            "684444.5019967904\n",
            "8\n",
            "674574.7475478561\n",
            "7\n",
            "667409.469916028\n",
            "6\n",
            "663556.6278215044\n",
            "5\n",
            "660162.7772287563\n",
            "4\n",
            "656041.3222947121\n",
            "3\n",
            "653036.7540731612\n",
            "2\n",
            "651112.4262522729\n",
            "1\n",
            "649689.0131843555\n"
          ]
        }
      ]
    },
    {
      "cell_type": "code",
      "source": [
        "import matplotlib.pyplot as plt\n",
        "\n",
        "#折线图\n",
        "x = [i for i in range(1,21)]#点的横坐标\n",
        "k1 = phi1_list #线1的纵坐标\n",
        "k2 = phi2_list #线2的纵坐标\n",
        "plt.plot(x,k1,'s-',color = 'r',label=\"Eu-dis C1\")#\n",
        "plt.plot(x,k2,'o-',color = 'g',label=\"Eu-dis C2\")#\n",
        "plt.xlabel(\"iteration\")#横坐标名字\n",
        "plt.ylabel(\"Loss\")#纵坐标名字\n",
        "plt.legend(loc = \"best\")#图例\n",
        "plt.show()\n",
        "\n"
      ],
      "metadata": {
        "colab": {
          "base_uri": "https://localhost:8080/",
          "height": 465
        },
        "id": "YOAmWbNTxsjn",
        "outputId": "7b32f812-1dc4-4b11-a5f4-c96d0be95e8b"
      },
      "execution_count": null,
      "outputs": [
        {
          "output_type": "display_data",
          "data": {
            "text/plain": [
              "<Figure size 640x480 with 1 Axes>"
            ],
            "image/png": "[encoded data removed]"
          },
          "metadata": {}
        }
      ]
    },
    {
      "cell_type": "code",
      "source": [
        "import matplotlib.pyplot as plt\n",
        "\n",
        "#折线图\n",
        "x = [i for i in range(1,21)]#点的横坐标\n",
        "k1 = Mphi1_list #线1的纵坐标\n",
        "k2 = Mphi2_list #线2的纵坐标\n",
        "plt.plot(x,k1,'s-',color = 'r',label=\"Manh-dis C1\")#\n",
        "plt.plot(x,k2,'o-',color = 'g',label=\"Manh-dis C2\")#\n",
        "plt.xlabel(\"iteration\")#横坐标名字\n",
        "plt.ylabel(\"Loss\")#纵坐标名字\n",
        "plt.legend(loc = \"best\")#图例\n",
        "plt.show()"
      ],
      "metadata": {
        "colab": {
          "base_uri": "https://localhost:8080/",
          "height": 465
        },
        "id": "SUdKI-ytziqL",
        "outputId": "efae72ed-aa3c-4f44-979d-b3a341451ef1"
      },
      "execution_count": null,
      "outputs": [
        {
          "output_type": "display_data",
          "data": {
            "text/plain": [
              "<Figure size 640x480 with 1 Axes>"
            ],
            "image/png": "[encoded data removed]"
          },
          "metadata": {}
        }
      ]
    },
    {
      "cell_type": "code",
      "source": [
        "def find_loss(l):\n",
        "  result = (l[0] - l[10]) / l[0]\n",
        "  print(result)\n",
        "\n",
        "find_loss(phi1_list)\n",
        "find_loss(phi2_list)\n",
        "find_loss(Mphi1_list)\n",
        "find_loss(Mphi2_list)\n"
      ],
      "metadata": {
        "colab": {
          "base_uri": "https://localhost:8080/"
        },
        "id": "rkGNpoSIyPJ3",
        "outputId": "47298faa-5a2a-4b07-a6f3-5a7f88754029"
      },
      "execution_count": null,
      "outputs": [
        {
          "output_type": "stream",
          "name": "stdout",
          "text": [
            "0.2648391714456056\n",
            "0.7669795594605946\n",
            "0.1865492611679923\n",
            "0.515540991023891\n"
          ]
        }
      ]
    }
  ]
}