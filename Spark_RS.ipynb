{
  "nbformat": 4,
  "nbformat_minor": 0,
  "metadata": {
    "colab": {
      "provenance": []
    },
    "kernelspec": {
      "name": "python3",
      "display_name": "Python 3"
    },
    "language_info": {
      "name": "python"
    }
  },
  "cells": [
    {
      "cell_type": "markdown",
      "source": [
        "# **CSC 4008 Assignment 4 (Q2) - 119020062 许文仲**"
      ],
      "metadata": {
        "id": "XbVk69VM_yFc"
      }
    },
    {
      "cell_type": "code",
      "execution_count": null,
      "metadata": {
        "id": "zlwHAkqrflJ1",
        "colab": {
          "base_uri": "https://localhost:8080/"
        },
        "outputId": "c94026ee-fb0f-4668-89f6-993291c57eda"
      },
      "outputs": [
        {
          "output_type": "stream",
          "name": "stdout",
          "text": [
            "Looking in indexes: https://pypi.org/simple, https://us-python.pkg.dev/colab-wheels/public/simple/\n",
            "Requirement already satisfied: pyspark in /usr/local/lib/python3.10/dist-packages (3.4.0)\n",
            "Requirement already satisfied: py4j==0.10.9.7 in /usr/local/lib/python3.10/dist-packages (from pyspark) (0.10.9.7)\n",
            "openjdk-8-jdk-headless is already the newest version (8u362-ga-0ubuntu1~20.04.1).\n",
            "0 upgraded, 0 newly installed, 0 to remove and 24 not upgraded.\n"
          ]
        }
      ],
      "source": [
        "!pip install pyspark\n",
        "!pip install -U -q PyDrive\n",
        "!apt install openjdk-8-jdk-headless -qq"
      ]
    },
    {
      "cell_type": "code",
      "source": [
        "from google.colab import drive\n",
        "drive.mount('/content/gdrive')\n",
        "import sys\n",
        "sys.path.append('/content/drive/My Drive')"
      ],
      "metadata": {
        "colab": {
          "base_uri": "https://localhost:8080/"
        },
        "id": "jcZpmEtkgzJ2",
        "outputId": "dc1955ea-f979-41f3-e9ff-71973d13ccfc"
      },
      "execution_count": null,
      "outputs": [
        {
          "output_type": "stream",
          "name": "stdout",
          "text": [
            "Mounted at /content/gdrive\n"
          ]
        }
      ]
    },
    {
      "cell_type": "code",
      "source": [
        "# Let's import the libraries we will need\n",
        "import pandas as pd\n",
        "import numpy as np\n",
        "import matplotlib.pyplot as plt\n",
        "%matplotlib inline\n",
        "\n",
        "\n",
        "from pyspark.sql import SparkSession\n",
        "import pyspark\n",
        "from pyspark.sql import *\n",
        "from pyspark.sql.functions import *\n",
        "from pyspark import SparkContext"
      ],
      "metadata": {
        "id": "fd7uojZ_hIEJ"
      },
      "execution_count": null,
      "outputs": []
    },
    {
      "cell_type": "code",
      "source": [
        "# spark = SparkSession.builder.getOrCreate()\n",
        "sc = pyspark.SparkContext.getOrCreate()\n",
        "path_us = \"/content/gdrive/MyDrive/Colab Notebooks/CSC 4008/user-shows.txt\"\n",
        "path_s = \"/content/gdrive/MyDrive/Colab Notebooks/CSC 4008/shows.txt\"\n",
        "\n",
        "us = sc.textFile(path_us)\n",
        "show = sc.textFile(path_s)\n",
        "# rdd.collect()"
      ],
      "metadata": {
        "id": "TwXXXT-NjLrR"
      },
      "execution_count": null,
      "outputs": []
    },
    {
      "cell_type": "code",
      "source": [
        "# get the first level friend RDD\n",
        "rdd_us = us.map(lambda x: x.split(\" \"))\n"
      ],
      "metadata": {
        "id": "uDr7KPkq9vI3"
      },
      "execution_count": null,
      "outputs": []
    },
    {
      "cell_type": "code",
      "source": [
        "# find Q with size 9985 * 9985 for users\n",
        "def find_su(line):\n",
        "  # 找到每个点属于哪一类\n",
        "  line = list(line)\n",
        "  p = list(map(int, line))\n",
        "  p = np.array(p)\n",
        "  return np.sum(p)\n",
        "\n",
        "test = rdd_us.map(find_su)\n",
        "P_list = test.collect()\n",
        "P = np.diag(P_list)\n",
        "P"
      ],
      "metadata": {
        "colab": {
          "base_uri": "https://localhost:8080/"
        },
        "id": "kyMkIXi3T7Bw",
        "outputId": "274b5c32-573a-4b59-a225-66a666ef431e"
      },
      "execution_count": null,
      "outputs": [
        {
          "output_type": "execute_result",
          "data": {
            "text/plain": [
              "array([[35,  0,  0, ...,  0,  0,  0],\n",
              "       [ 0, 26,  0, ...,  0,  0,  0],\n",
              "       [ 0,  0, 44, ...,  0,  0,  0],\n",
              "       ...,\n",
              "       [ 0,  0,  0, ...,  5,  0,  0],\n",
              "       [ 0,  0,  0, ...,  0, 30,  0],\n",
              "       [ 0,  0,  0, ...,  0,  0, 19]])"
            ]
          },
          "metadata": {},
          "execution_count": 33
        }
      ]
    },
    {
      "cell_type": "code",
      "source": [
        "# find Q with size 563 * 563 for items\n",
        "def find_Q(line):\n",
        "  # 找到每个点属于哪一类\n",
        "  line = list(line)\n",
        "  p = list(map(int, line))\n",
        "  p = np.array(p)\n",
        "  return p\n",
        "\n",
        "temp = rdd_us.map(find_Q)\n",
        "R = np.array(temp.collect())\n",
        "RT = R.T\n",
        "Q_list = RT.sum(axis = 1)\n",
        "Q = np.diag(Q_list)"
      ],
      "metadata": {
        "id": "e2Umu86tV4iH"
      },
      "execution_count": null,
      "outputs": []
    },
    {
      "cell_type": "code",
      "source": [
        "P_arr = np.array(P_list)\n",
        "Q_arr = np.array(Q_list)\n",
        "sqrt_P = np.sqrt(P_arr)\n",
        "sqrt_Q = np.sqrt(Q_arr)\n",
        "invsqrt_P = 1/sqrt_P\n",
        "invsqrt_Q = 1/sqrt_Q\n",
        "diainvsqrt_P = np.diag(invsqrt_P)\n",
        "diainvsqrt_Q = np.diag(invsqrt_Q)"
      ],
      "metadata": {
        "id": "fdoZptQSXOJ9"
      },
      "execution_count": null,
      "outputs": []
    },
    {
      "cell_type": "code",
      "source": [
        "tempu = np.dot(diainvsqrt_P, R)\n",
        "tempi = np.dot(diainvsqrt_Q, RT)\n"
      ],
      "metadata": {
        "id": "V3RoiqfHbhn9"
      },
      "execution_count": null,
      "outputs": []
    },
    {
      "cell_type": "code",
      "source": [
        "S_u = np.dot(tempu, tempu.T)\n",
        "S_i = np.dot(tempi, tempi.T)"
      ],
      "metadata": {
        "id": "OxmTUVOIazaE"
      },
      "execution_count": null,
      "outputs": []
    },
    {
      "cell_type": "code",
      "source": [
        "Tao_u = np.dot(S_u, R)\n",
        "Tao_i = np.dot(R, S_i)"
      ],
      "metadata": {
        "id": "zgREnndVbwfc"
      },
      "execution_count": null,
      "outputs": []
    },
    {
      "cell_type": "code",
      "source": [
        "Au = Tao_u[499]\n",
        "Ai = Tao_i[499]"
      ],
      "metadata": {
        "id": "zkRmouuia1gb"
      },
      "execution_count": null,
      "outputs": []
    },
    {
      "cell_type": "code",
      "source": [
        "uchosen_list = Au[:100]\n",
        "ichosen_list = Ai[:100]"
      ],
      "metadata": {
        "id": "5iC0eqAxaiID"
      },
      "execution_count": null,
      "outputs": []
    },
    {
      "cell_type": "code",
      "source": [
        "ufive = np.array(uchosen_list)\n",
        "k = 5  #前k个\n",
        "uindex = ufive.argsort()[-k:][::-1]\n",
        "uindex"
      ],
      "metadata": {
        "colab": {
          "base_uri": "https://localhost:8080/"
        },
        "id": "Hu_I31B9fhnk",
        "outputId": "de2163db-755b-4284-b9ad-33f553b1019f"
      },
      "execution_count": null,
      "outputs": [
        {
          "output_type": "execute_result",
          "data": {
            "text/plain": [
              "array([96, 74, 45, 60,  9])"
            ]
          },
          "metadata": {},
          "execution_count": 67
        }
      ]
    },
    {
      "cell_type": "code",
      "source": [
        "ifive = np.array(ichosen_list)\n",
        "k = 5  #前k个\n",
        "iindex = ifive.argsort()[-k:][::-1]\n",
        "iindex"
      ],
      "metadata": {
        "colab": {
          "base_uri": "https://localhost:8080/"
        },
        "id": "Iu5mXzPcfqqm",
        "outputId": "91ad8f78-6e72-419b-81ea-c77971cb15af"
      },
      "execution_count": null,
      "outputs": [
        {
          "output_type": "execute_result",
          "data": {
            "text/plain": [
              "array([96, 74, 60, 45, 82])"
            ]
          },
          "metadata": {},
          "execution_count": 68
        }
      ]
    },
    {
      "cell_type": "code",
      "source": [
        "rdd_s = show.map(lambda x: x.split(\"\\t\"))\n",
        "show_list = rdd_s.collect()\n",
        "len(show_list)"
      ],
      "metadata": {
        "colab": {
          "base_uri": "https://localhost:8080/"
        },
        "id": "xnp9qylWiDxs",
        "outputId": "1fcfce65-465c-4baa-e1fd-1aea3219353a"
      },
      "execution_count": null,
      "outputs": [
        {
          "output_type": "execute_result",
          "data": {
            "text/plain": [
              "563"
            ]
          },
          "metadata": {},
          "execution_count": 66
        }
      ]
    },
    {
      "cell_type": "code",
      "source": [
        "print(\"The results is given by U_U\")\n",
        "for i in uindex:\n",
        "  print(show_list[i])\n",
        "print(\"-------------------------\")\n",
        "print(\"The results is given by I_I\")\n",
        "for i in iindex:\n",
        "  print(show_list[i])\n"
      ],
      "metadata": {
        "colab": {
          "base_uri": "https://localhost:8080/"
        },
        "id": "rL-xCVAKimHB",
        "outputId": "37f76664-b057-4ae8-99ca-4c3b55bf3656"
      },
      "execution_count": null,
      "outputs": [
        {
          "output_type": "stream",
          "name": "stdout",
          "text": [
            "The results is given by U_U\n",
            "['\"FOX 28 News at 10pm\"']\n",
            "['\"Family Guy\"']\n",
            "['\"2009 NCAA Basketball Tournament\"']\n",
            "['\"NBC 4 at Eleven\"']\n",
            "['\"Two and a Half Men\"']\n",
            "-------------------------\n",
            "The results is given by I_I\n",
            "['\"FOX 28 News at 10pm\"']\n",
            "['\"Family Guy\"']\n",
            "['\"NBC 4 at Eleven\"']\n",
            "['\"2009 NCAA Basketball Tournament\"']\n",
            "['\"Access Hollywood\"']\n"
          ]
        }
      ]
    }
  ]
}